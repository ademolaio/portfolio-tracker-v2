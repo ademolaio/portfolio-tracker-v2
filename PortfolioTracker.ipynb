{
 "cells": [
  {
   "cell_type": "code",
   "id": "initial_id",
   "metadata": {
    "collapsed": true,
    "ExecuteTime": {
     "end_time": "2024-09-30T16:37:45.784345Z",
     "start_time": "2024-09-30T16:37:45.578657Z"
    }
   },
   "source": [
    "from data.portfolio_data import get_portfolio_data\n",
    "from utils.helpers import format_portfolio_as_dataframe"
   ],
   "outputs": [],
   "execution_count": 1
  },
  {
   "metadata": {
    "ExecuteTime": {
     "end_time": "2024-09-30T16:37:45.987081Z",
     "start_time": "2024-09-30T16:37:45.789851Z"
    }
   },
   "cell_type": "code",
   "source": [
    "# Fetch portfolio data in a DataFrame\n",
    "portfolio_data, column_headers = get_portfolio_data()\n",
    "\n",
    "# Display portfolio data in a DataFrame\n",
    "portfolio_df = format_portfolio_as_dataframe(portfolio_data)\n",
    "\n",
    "# Display the DataFrame\n",
    "portfolio_df[column_headers]"
   ],
   "id": "9fb350cd748ff367",
   "outputs": [
    {
     "data": {
      "text/plain": [
       "  Ticker       Name      Sector              Industry  Shares  Avg Cost\n",
       "0   AAPL  Apple Inc  TECHNOLOGY  ELECTRONIC COMPUTERS   100.0     150.0"
      ],
      "text/html": [
       "<div>\n",
       "<style scoped>\n",
       "    .dataframe tbody tr th:only-of-type {\n",
       "        vertical-align: middle;\n",
       "    }\n",
       "\n",
       "    .dataframe tbody tr th {\n",
       "        vertical-align: top;\n",
       "    }\n",
       "\n",
       "    .dataframe thead th {\n",
       "        text-align: right;\n",
       "    }\n",
       "</style>\n",
       "<table border=\"1\" class=\"dataframe\">\n",
       "  <thead>\n",
       "    <tr style=\"text-align: right;\">\n",
       "      <th></th>\n",
       "      <th>Ticker</th>\n",
       "      <th>Name</th>\n",
       "      <th>Sector</th>\n",
       "      <th>Industry</th>\n",
       "      <th>Shares</th>\n",
       "      <th>Avg Cost</th>\n",
       "    </tr>\n",
       "  </thead>\n",
       "  <tbody>\n",
       "    <tr>\n",
       "      <th>0</th>\n",
       "      <td>AAPL</td>\n",
       "      <td>Apple Inc</td>\n",
       "      <td>TECHNOLOGY</td>\n",
       "      <td>ELECTRONIC COMPUTERS</td>\n",
       "      <td>100.0</td>\n",
       "      <td>150.0</td>\n",
       "    </tr>\n",
       "  </tbody>\n",
       "</table>\n",
       "</div>"
      ]
     },
     "execution_count": 2,
     "metadata": {},
     "output_type": "execute_result"
    }
   ],
   "execution_count": 2
  }
 ],
 "metadata": {
  "kernelspec": {
   "display_name": "Python 3",
   "language": "python",
   "name": "python3"
  },
  "language_info": {
   "codemirror_mode": {
    "name": "ipython",
    "version": 2
   },
   "file_extension": ".py",
   "mimetype": "text/x-python",
   "name": "python",
   "nbconvert_exporter": "python",
   "pygments_lexer": "ipython2",
   "version": "2.7.6"
  }
 },
 "nbformat": 4,
 "nbformat_minor": 5
}
